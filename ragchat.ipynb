{
 "cells": [
  {
   "cell_type": "code",
   "execution_count": 20,
   "metadata": {},
   "outputs": [],
   "source": [
    "from langchain.vectorstores import FAISS\n",
    "from langchain.embeddings.openai import OpenAIEmbeddings\n",
    "from langchain.text_splitter import RecursiveCharacterTextSplitter\n",
    "from langchain_community.document_loaders import PyPDFDirectoryLoader, WebBaseLoader, ArxivLoader\n",
    "import os\n",
    "from dotenv import load_dotenv\n",
    "import bs4\n"
   ]
  },
  {
   "cell_type": "code",
   "execution_count": 21,
   "metadata": {},
   "outputs": [],
   "source": [
    "# Load environment variables for API key\n",
    "load_dotenv()\n",
    "os.environ[\"OPENAI_API_KEY\"] = os.getenv(\"OPENAI_API_KEY\")\n"
   ]
  },
  {
   "cell_type": "code",
   "execution_count": 22,
   "metadata": {},
   "outputs": [],
   "source": [
    "\n",
    "# Initialize embeddings and loaders\n",
    "embedding_model = OpenAIEmbeddings(model=\"text-embedding-ada-002\")\n",
    "pdf_loader = PyPDFDirectoryLoader(\"data\")\n",
    "web_loader = WebBaseLoader(\n",
    "    web_paths=(\"https://learnflix.in/ncert-syllabus-class-7-science.html\",),\n",
    "    bs_kwargs=dict(parse_only=bs4.SoupStrainer(class_=(\"post-title\", \"post-content\", \"post-header\")))\n",
    ")\n",
    "arxiv_loader = ArxivLoader(query=\"2304.11149\", load_max_docs=2)"
   ]
  },
  {
   "cell_type": "code",
   "execution_count": 23,
   "metadata": {},
   "outputs": [],
   "source": [
    "# Load and combine documents\n",
    "all_docs = pdf_loader.load() + web_loader.load() + arxiv_loader.load()\n",
    "\n"
   ]
  },
  {
   "cell_type": "code",
   "execution_count": 24,
   "metadata": {},
   "outputs": [],
   "source": [
    "\n",
    "# Split documents\n",
    "\n",
    "text_splitter = RecursiveCharacterTextSplitter(chunk_size=500, chunk_overlap=50)\n",
    "split_docs = text_splitter.split_documents(all_docs)\n",
    "\n"
   ]
  },
  {
   "cell_type": "code",
   "execution_count": 25,
   "metadata": {},
   "outputs": [],
   "source": [
    "# Create and save FAISS index\n",
    "texts = [doc.page_content for doc in split_docs]\n",
    "vector_store = FAISS.from_texts(texts, embedding=embedding_model)\n",
    "vector_store.save_local(\"faiss_index\")\n",
    "\n",
    "vector_store = FAISS.load_local(\n",
    "    \"faiss_index\",\n",
    "    embeddings=embedding_model,\n",
    "    allow_dangerous_deserialization=True\n",
    ")\n"
   ]
  },
  {
   "cell_type": "code",
   "execution_count": null,
   "metadata": {},
   "outputs": [
    {
     "name": "stdout",
     "output_type": "stream",
     "text": [
      "Result 1:\n",
      "(Vogt, 2010). Another example are comic strip \n",
      "problems, which are, again similarly to NSPs, based on \n",
      "some comic strip sequence featuring science-related \n",
      "issues and assking pupils to work on various questions \n",
      "and related tasks (Kuhn et al. 2010b). \n",
      " \n",
      "On a cool morning, you would like to heat your bathroom (A = 20 m2) \n",
      "from 12 °C up to 20 °C with a heater (see left). \n",
      "1. What time does it need to warm up your bathroom?\n",
      "\n",
      "Result 2:\n",
      "7th/8th grade, and “electrical energy” in 9th/10th grade; \n",
      "see figures 1, 3 and 5. For the advertisement tasks (see \n",
      "sect. 5), the topics were “thermal capacity” and “caloric \n",
      "value” (Vogt, 2010). \n",
      "Studies were carried out within regular classroom \n",
      "teaching as a comparison of intervention (“treatment”) \n",
      "and “control” classes (EC and CC, respectively).6 In the \n",
      "experimental condition, classes worked with newspaper \n",
      "story problems (see Fig. 1a and 5a), while classes in the\n",
      "\n",
      "Result 3:\n",
      "2. What is the costs for heating the bathroom, given a price of 30 cent per \n",
      "kilowatt hour? \n",
      "Note: Assume that the electrical energy is converted completely into heat \n",
      "energy of air. \n",
      " \n",
      " \n",
      " \n",
      " \n",
      " \n",
      " \n",
      " \n",
      " \n",
      "Fig. 10. Looking behind the curtain: Infrared images and selective absorption from human to Milky Way. Top: Behind a plastic \n",
      "“curtain” (polyethylene): person in visual range invisible (left), in infrared range visible (right). Bottom: Behind the dust “curtain”\n",
      "\n",
      "Result 4:\n",
      "elements of their own knowledge? An analysis of \n",
      "students’ \n",
      "context-based \n",
      "problem-solving \n",
      "in \n",
      "thermodynamics. International Journal of Science \n",
      "Education, 40(16), 1935-1956. \n",
      "Mandler, J. M. (1984). Stories, scripts and scenes: \n",
      "aspects of schema theory. Hillsdale. \n",
      "Minner, D., Levy, A., & Century, J. (2010) Inquiry-\n",
      "based science instruction—what is it and does it matter? \n",
      "Results from a research synthesis years 1984 to 2002. \n",
      "Journal of Research in Science Teaching, 47, 474–496.\n",
      "\n",
      "Result 5:\n",
      "increasingly aware of the relevance of physics (science) \n",
      "for the world they live in, but that does not entail \n",
      "personal relevance or interest. The latter being absent, \n",
      "one sees a decline of interest that is well established in \n",
      "developmental psychology studies for this age group in \n",
      "science and almost all other school subjects as well \n",
      "(Häussler & Hoffmann, 1995; CHSN, 2009; Krapp & \n",
      "Prenzel, 2011). \n",
      "Given this, at least two questions must be answered:\n",
      "\n"
     ]
    }
   ],
   "source": [
    "\n",
    "#  Define query\n",
    "query = \"What is heat ?\"\n",
    "\n",
    "# Convert the query into an embedding\n",
    "query_embedding = embedding_model.embed_query(query)\n",
    "\n",
    "#  Perform a similarity search on the vector store\n",
    "results = vector_store.similarity_search_by_vector(query_embedding, k=5)\n",
    "\n",
    "#  Display the results\n",
    "for idx, doc in enumerate(results, 1):\n",
    "    print(f\"Result {idx}:\\n{doc.page_content}\\n\")\n"
   ]
  }
 ],
 "metadata": {
  "kernelspec": {
   "display_name": "Python 3",
   "language": "python",
   "name": "python3"
  },
  "language_info": {
   "codemirror_mode": {
    "name": "ipython",
    "version": 3
   },
   "file_extension": ".py",
   "mimetype": "text/x-python",
   "name": "python",
   "nbconvert_exporter": "python",
   "pygments_lexer": "ipython3",
   "version": "3.11.0"
  }
 },
 "nbformat": 4,
 "nbformat_minor": 2
}
